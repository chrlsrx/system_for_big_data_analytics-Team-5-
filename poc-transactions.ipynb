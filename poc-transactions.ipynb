{
 "nbformat": 4,
 "nbformat_minor": 2,
 "metadata": {
  "language_info": {
   "name": "python",
   "codemirror_mode": {
    "name": "ipython",
    "version": 2
   },
   "version": "3.7.3-final"
  },
  "orig_nbformat": 2,
  "file_extension": ".py",
  "mimetype": "text/x-python",
  "name": "python",
  "npconvert_exporter": "python",
  "pygments_lexer": "ipython2",
  "version": 2,
  "kernelspec": {
   "name": "python3",
   "display_name": "Python 3"
  }
 },
 "cells": [
  {
   "cell_type": "code",
   "execution_count": 7,
   "metadata": {},
   "outputs": [],
   "source": [
    "import pandas as pd\n",
    "\n",
    "class Operation:\n",
    "    \"\"\"Read or Write\"\"\"\n",
    "    def __init__(self, _id, target, function):\n",
    "        self.id = _id\n",
    "        self.target = target\n",
    "        self.function = function\n",
    "        self.has_lock = False\n",
    "        self.has_applied = False\n",
    "\n",
    "    def apply(self) -> bool :\n",
    "        success = self.target.apply(self)\n",
    "        self.has_applied = success\n",
    "        return success\n",
    "\n",
    "    def get_lock(self):\n",
    "        success = self.target.lock(self)\n",
    "        self.has_lock = success\n",
    "        return success\n",
    "    \n",
    "    def free_lock(self):\n",
    "        success = self.target.unlock(self)\n",
    "        self.has_lock = not success\n",
    "        return success\n",
    "\n"
   ]
  },
  {
   "cell_type": "code",
   "execution_count": 12,
   "metadata": {},
   "outputs": [],
   "source": [
    "class Transaction:\n",
    "    def __init__(self, _id, operation_list):\n",
    "        self.id = _id\n",
    "        self.operation_list = operation_list\n",
    "        self.operation_iter = 0\n",
    "        self.finished = False\n",
    "\n",
    "    def apply_next(self) -> bool:\n",
    "        if self.finished:\n",
    "            return True # Transaction has finished, skip\n",
    "        # Otherwise, run transaction:\n",
    "        current_operation = self.operation_list[self.operation_iter]\n",
    "        if current_operation.has_lock:\n",
    "            if current_operation.has_applied:\n",
    "                print(self.id, \"Free lock of current operation\", current_operation.id)\n",
    "                success = current_operation.free_lock()\n",
    "            else:\n",
    "                print(self.id, 'Apply current operation', current_operation.id)\n",
    "                current_operation.apply()\n",
    "                success = False\n",
    "        else:\n",
    "            print(self.id, 'Get lock of current operation', current_operation.id)\n",
    "            current_operation.get_lock()\n",
    "            success = False\n",
    "        if success:\n",
    "            self.operation_iter += 1 \n",
    "            if self.operation_iter==len(self.operation_list):\n",
    "                self.finished = True\n",
    "        return success"
   ]
  },
  {
   "cell_type": "code",
   "execution_count": 14,
   "metadata": {},
   "outputs": [],
   "source": [
    "class Target:\n",
    "    def __init__(self, df: pd.DataFrame):\n",
    "        self.df = df # DataFrame \n",
    "        self.locked = False\n",
    "        self.op_with_lock = None\n",
    "\n",
    "    def apply(self, op: Operation) -> bool:\n",
    "        if self.locked and self.op_with_lock==op:\n",
    "            try:\n",
    "                self.df = op.function(self.df)\n",
    "                return True\n",
    "            except Exception as e:\n",
    "                raise e # Do something. If an operations fails to many times, it won't ensure Atomicity\n",
    "                return False\n",
    "        else:\n",
    "            return False\n",
    "\n",
    "    def lock(self, op: Operation) -> bool:\n",
    "        if not self.locked and self.op_with_lock==None:\n",
    "            self.locked = True\n",
    "            self.op_with_lock = op\n",
    "            return True # Success\n",
    "        else:\n",
    "            return False\n",
    "\n",
    "    def unlock(self, op: Operation) -> bool:\n",
    "        if self.locked and self.op_with_lock==op:\n",
    "            self.locked = False\n",
    "            self.op_with_lock = None\n",
    "            return True\n",
    "        else:\n",
    "            return False\n"
   ]
  },
  {
   "cell_type": "code",
   "execution_count": 33,
   "metadata": {},
   "outputs": [],
   "source": [
    "from random import randint\n",
    "from copy import copy\n",
    "from typing import Callable, Iterator, Union, Optional, List\n",
    "\n",
    "def run_transactions(max_iterations=10, *transactions: List[Transaction]):\n",
    "    non_finished_transa = copy(list(transactions))\n",
    "    curr_iteration = 0\n",
    "    while len(non_finished_transa) > 0 and curr_iteration < max_iterations: \n",
    "        curr_iteration += 1\n",
    "        n_transa = len(non_finished_transa)\n",
    "        # Simulate random access to memory : we try to run the next step of a random transaction\n",
    "        i = randint(0, n_transa-1) \n",
    "        curr_transa = non_finished_transa[i]\n",
    "        curr_transa.apply_next()\n",
    "        # Remove transactions from list if finished\n",
    "        if curr_transa.finished:\n",
    "            non_finished_transa.pop(i)\n",
    "\n"
   ]
  },
  {
   "cell_type": "code",
   "execution_count": 62,
   "metadata": {},
   "outputs": [
    {
     "name": "stdout",
     "output_type": "stream",
     "text": "test_1 Get lock of current operation append value\ntest_1 Apply current operation append value\ntest_1 Free lock of current operation append value\ntest_1 Get lock of current operation append second\ntest_1 Apply current operation append second\ntest_2 Get lock of current operation times 2\ntest_2 Get lock of current operation times 2\ntest_1 Free lock of current operation append second\ntest_2 Get lock of current operation times 2\ntest_2 Apply current operation times 2\ntest_2 Free lock of current operation times 2\n"
    }
   ],
   "source": [
    "df = pd.DataFrame({\"test\": [1,2,3,55]})\n",
    "test_target = Target(df)\n",
    "\n",
    "def append_value(df: pd.DataFrame, value) -> pd.DataFrame:\n",
    "    max_index = max(df.index) \n",
    "    df.loc[max_index + 1] = value \n",
    "    return df \n",
    "\n",
    "test_function = lambda df: append_value(df, 5)\n",
    "\n",
    "test_transa_1 = Transaction(\"test_1\", [\n",
    "    Operation(\"append value\", test_target, test_function),\n",
    "    Operation(\"append second\", test_target, test_function),\n",
    "])\n",
    "\n",
    "test_transa_2 = Transaction(\"test_2\", [\n",
    "    Operation(\"times 2\", test_target, lambda x: x*2)\n",
    "])\n",
    "\n",
    "run_transactions(100, test_transa_1, test_transa_2)"
   ]
  },
  {
   "cell_type": "code",
   "execution_count": 63,
   "metadata": {},
   "outputs": [
    {
     "data": {
      "text/html": "<div>\n<style scoped>\n    .dataframe tbody tr th:only-of-type {\n        vertical-align: middle;\n    }\n\n    .dataframe tbody tr th {\n        vertical-align: top;\n    }\n\n    .dataframe thead th {\n        text-align: right;\n    }\n</style>\n<table border=\"1\" class=\"dataframe\">\n  <thead>\n    <tr style=\"text-align: right;\">\n      <th></th>\n      <th>test</th>\n    </tr>\n  </thead>\n  <tbody>\n    <tr>\n      <th>0</th>\n      <td>2</td>\n    </tr>\n    <tr>\n      <th>1</th>\n      <td>4</td>\n    </tr>\n    <tr>\n      <th>2</th>\n      <td>6</td>\n    </tr>\n    <tr>\n      <th>3</th>\n      <td>110</td>\n    </tr>\n    <tr>\n      <th>4</th>\n      <td>10</td>\n    </tr>\n    <tr>\n      <th>5</th>\n      <td>10</td>\n    </tr>\n  </tbody>\n</table>\n</div>",
      "text/plain": "   test\n0     2\n1     4\n2     6\n3   110\n4    10\n5    10"
     },
     "execution_count": 63,
     "metadata": {},
     "output_type": "execute_result"
    }
   ],
   "source": [
    "test_target.df"
   ]
  },
  {
   "cell_type": "code",
   "execution_count": null,
   "metadata": {},
   "outputs": [],
   "source": []
  }
 ]
}